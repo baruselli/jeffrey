{
 "cells": [
  {
   "cell_type": "markdown",
   "metadata": {},
   "source": [
    "# Jeffrey's priors"
   ]
  },
  {
   "cell_type": "markdown",
   "metadata": {},
   "source": [
    "$$P_J(\\theta)\\propto\\sqrt{\\det J(\\theta)}$$\n",
    "up to the normalization, where $J(\\theta)$ is the Fisher's information:\n",
    "$$J_{\\alpha\\beta}(\\theta)=\\int dx f(x,\\theta)\\partial_{\\theta_\\alpha}\\log f(x,\\theta)\\partial_{\\theta_\\beta}\\log f(x,\\theta)=\n",
    "\\int dx \\frac{\\partial_{\\theta_\\alpha} f(x,\\theta)\\partial_{\\theta_\\beta} f(x,\\theta)}{f(x,\\theta)}=$$\n",
    "$$=-\\int dx f(x,\\theta) \\partial_{\\theta_\\alpha}\\partial_{\\theta_\\beta} \\log f(x,\\theta)$$"
   ]
  },
  {
   "cell_type": "code",
   "execution_count": 1,
   "metadata": {},
   "outputs": [],
   "source": [
    "from sympy import *\n",
    "init_printing(use_unicode=False, wrap_line=False, no_global=True)"
   ]
  },
  {
   "cell_type": "markdown",
   "metadata": {},
   "source": [
    "### Binomial"
   ]
  },
  {
   "cell_type": "markdown",
   "metadata": {},
   "source": [
    "I get by hand\n",
    "$$P_J(p) \\propto 1/\\sqrt{p(1-p)}$$"
   ]
  },
  {
   "cell_type": "code",
   "execution_count": 2,
   "metadata": {},
   "outputs": [
    {
     "data": {
      "image/png": "[encoded data removed]",
      "text/latex": [
       "$$\\pi$$"
      ],
      "text/plain": [
       "pi"
      ]
     },
     "execution_count": 2,
     "metadata": {},
     "output_type": "execute_result"
    }
   ],
   "source": [
    "x = Symbol('x',positive=True)\n",
    "integrate(1/sqrt(x)/sqrt(1-x), (x,0,1))"
   ]
  },
  {
   "cell_type": "markdown",
   "metadata": {},
   "source": [
    "So \n",
    "$$P_J(p) =\\frac{1}{\\pi} \\frac{1}{\\sqrt{p(1-p)}}=Beta(1/2,1/2)$$\n",
    "\n",
    "\n",
    "For a multinomial I have $P_J(p_1,...,p_n)\\propto\\prod_i 1/\\sqrt{p_i}$, which is the Dirichlet's distribution with all parameters set to 1/2. "
   ]
  },
  {
   "cell_type": "markdown",
   "metadata": {},
   "source": [
    "### Exponential "
   ]
  },
  {
   "cell_type": "code",
   "execution_count": 3,
   "metadata": {},
   "outputs": [],
   "source": [
    "mu = Symbol('mu',positive=True)\n",
    "x = Symbol('x',positive=True)\n",
    "def g(x,mu):\n",
    "    return 1/mu*exp(-x/mu)"
   ]
  },
  {
   "cell_type": "code",
   "execution_count": 4,
   "metadata": {},
   "outputs": [
    {
     "data": {
      "image/png": "[encoded data removed]",
      "text/latex": [
       "$$1$$"
      ],
      "text/plain": [
       "1"
      ]
     },
     "execution_count": 4,
     "metadata": {},
     "output_type": "execute_result"
    }
   ],
   "source": [
    "integrate(g(x,mu),(x,0,oo))"
   ]
  },
  {
   "cell_type": "code",
   "execution_count": 5,
   "metadata": {},
   "outputs": [
    {
     "data": {
      "image/png": "[encoded data removed]",
      "text/latex": [
       "$$- \\frac{e^{- \\frac{x}{\\mu}}}{\\mu^{2}}$$"
      ],
      "text/plain": [
       "  -x  \n",
       "  --- \n",
       "   mu \n",
       "-e    \n",
       "------\n",
       "   2  \n",
       " mu   "
      ]
     },
     "execution_count": 5,
     "metadata": {},
     "output_type": "execute_result"
    }
   ],
   "source": [
    "dg_dmu=diff(g(x,mu),x)\n",
    "dg_dmu"
   ]
  },
  {
   "cell_type": "code",
   "execution_count": 6,
   "metadata": {
    "scrolled": true
   },
   "outputs": [
    {
     "data": {
      "image/png": "[encoded data removed]",
      "text/latex": [
       "$$\\frac{1}{\\mu^{2}}$$"
      ],
      "text/plain": [
       " 1 \n",
       "---\n",
       "  2\n",
       "mu "
      ]
     },
     "execution_count": 6,
     "metadata": {},
     "output_type": "execute_result"
    }
   ],
   "source": [
    "integrate(1/g(x,mu)*(dg_dmu)**2,(x,0,+oo))"
   ]
  },
  {
   "cell_type": "markdown",
   "metadata": {},
   "source": [
    "So the prior is\n",
    "\n",
    "$$P_J(\\mu)d\\mu\\propto \\frac{d\\mu}{\\mu}$$"
   ]
  },
  {
   "cell_type": "markdown",
   "metadata": {},
   "source": [
    "### Gaussian"
   ]
  },
  {
   "cell_type": "code",
   "execution_count": 7,
   "metadata": {},
   "outputs": [
    {
     "data": {
      "image/png": "[encoded data removed]",
      "text/latex": [
       "$$\\frac{\\sqrt{2}}{2 \\sqrt{\\pi} s} e^{- \\frac{\\left(- \\mu + x\\right)^{2}}{2 s^{2}}}$$"
      ],
      "text/plain": [
       "                 2 \n",
       "       -(-mu + x)  \n",
       "       ------------\n",
       "              2    \n",
       "  ___      2*s     \n",
       "\\/ 2 *e            \n",
       "-------------------\n",
       "         ____      \n",
       "     2*\\/ pi *s    "
      ]
     },
     "execution_count": 7,
     "metadata": {},
     "output_type": "execute_result"
    }
   ],
   "source": [
    "mu = Symbol('mu')\n",
    "x = Symbol('x')\n",
    "s = Symbol('s',positive=True)\n",
    "def f(x,mu,sigma):\n",
    "    return 1/sqrt(2*pi*sigma**2)*exp(-(x-mu)**2/(2*sigma**2))\n",
    "f(x,mu,s)"
   ]
  },
  {
   "cell_type": "code",
   "execution_count": 8,
   "metadata": {},
   "outputs": [
    {
     "data": {
      "image/png": "[encoded data removed]",
      "text/latex": [
       "$$1$$"
      ],
      "text/plain": [
       "1"
      ]
     },
     "execution_count": 8,
     "metadata": {},
     "output_type": "execute_result"
    }
   ],
   "source": [
    "integrate(f(x,mu,s),(x,-oo,oo))"
   ]
  },
  {
   "cell_type": "code",
   "execution_count": 9,
   "metadata": {},
   "outputs": [
    {
     "data": {
      "image/png": "[encoded data removed]",
      "text/latex": [
       "$$- \\frac{\\sqrt{2}}{4 \\sqrt{\\pi} s^{3}} \\left(2 \\mu - 2 x\\right) e^{- \\frac{\\left(- \\mu + x\\right)^{2}}{2 s^{2}}}$$"
      ],
      "text/plain": [
       "                               2  \n",
       "                     -(-mu + x)   \n",
       "                     ------------ \n",
       "                            2     \n",
       "   ___                   2*s      \n",
       "-\\/ 2 *(2*mu - 2*x)*e             \n",
       "----------------------------------\n",
       "               ____  3            \n",
       "           4*\\/ pi *s             "
      ]
     },
     "execution_count": 9,
     "metadata": {},
     "output_type": "execute_result"
    }
   ],
   "source": [
    "df_dmu=diff(f(x,mu,s),mu)\n",
    "df_dmu"
   ]
  },
  {
   "cell_type": "code",
   "execution_count": 10,
   "metadata": {},
   "outputs": [
    {
     "data": {
      "image/png": "[encoded data removed]",
      "text/latex": [
       "$$- \\frac{\\sqrt{2}}{2 \\sqrt{\\pi} s^{2}} e^{- \\frac{\\left(- \\mu + x\\right)^{2}}{2 s^{2}}} + \\frac{\\sqrt{2} \\left(- \\mu + x\\right)^{2}}{2 \\sqrt{\\pi} s^{4}} e^{- \\frac{\\left(- \\mu + x\\right)^{2}}{2 s^{2}}}$$"
      ],
      "text/plain": [
       "                   2                                2 \n",
       "         -(-mu + x)                       -(-mu + x)  \n",
       "         ------------                     ------------\n",
       "                2                                2    \n",
       "    ___      2*s          ___          2      2*s     \n",
       "  \\/ 2 *e               \\/ 2 *(-mu + x) *e            \n",
       "- ------------------- + ------------------------------\n",
       "          ____  2                    ____  4          \n",
       "      2*\\/ pi *s                 2*\\/ pi *s           "
      ]
     },
     "execution_count": 10,
     "metadata": {},
     "output_type": "execute_result"
    }
   ],
   "source": [
    "df_ds=diff(f(x,mu,s),s)\n",
    "df_ds"
   ]
  },
  {
   "cell_type": "code",
   "execution_count": 11,
   "metadata": {},
   "outputs": [],
   "source": [
    "J_00=simplify(integrate(1/f(x,mu,s)*(df_dmu)**2,(x,-oo,+oo)))\n",
    "J_11=simplify(integrate(1/f(x,mu,s)*(df_ds)**2,(x,-oo,+oo)))\n",
    "J_01=simplify(integrate(1/f(x,mu,s)*(df_ds)*(df_dmu),(x,-oo,+oo)))"
   ]
  },
  {
   "cell_type": "code",
   "execution_count": 12,
   "metadata": {},
   "outputs": [
    {
     "data": {
      "image/png": "[encoded data removed]",
      "text/latex": [
       "$$\\left ( \\frac{1}{s^{2}}, \\quad \\frac{2}{s^{2}}, \\quad 0\\right )$$"
      ],
      "text/plain": [
       " 1   2     \n",
       "(--, --, 0)\n",
       "  2   2    \n",
       " s   s     "
      ]
     },
     "execution_count": 12,
     "metadata": {},
     "output_type": "execute_result"
    }
   ],
   "source": [
    "J_00,J_11,J_01"
   ]
  },
  {
   "cell_type": "markdown",
   "metadata": {},
   "source": [
    "$$P_J(\\mu,\\sigma)d\\mu d\\sigma\\propto\\frac{\\sqrt{2}d\\mu d\\sigma}{\\sigma^2}\\propto\\frac{d\\mu}{\\sigma}\\frac{d\\sigma}{\\sigma}$$"
   ]
  },
  {
   "cell_type": "markdown",
   "metadata": {},
   "source": [
    "### Gaussian with known variance"
   ]
  },
  {
   "cell_type": "code",
   "execution_count": 13,
   "metadata": {},
   "outputs": [],
   "source": [
    "J_00=simplify(integrate(1/f(x,mu,s)*(df_dmu)**2,(x,-oo,+oo)))"
   ]
  },
  {
   "cell_type": "code",
   "execution_count": 14,
   "metadata": {},
   "outputs": [
    {
     "data": {
      "image/png": "[encoded data removed]",
      "text/latex": [
       "$$\\frac{1}{s^{2}}$$"
      ],
      "text/plain": [
       "1 \n",
       "--\n",
       " 2\n",
       "s "
      ]
     },
     "execution_count": 14,
     "metadata": {},
     "output_type": "execute_result"
    }
   ],
   "source": [
    "J_00"
   ]
  },
  {
   "cell_type": "markdown",
   "metadata": {},
   "source": [
    "$$P_J(\\mu)d\\mu\\propto \\frac{d\\mu}{\\sigma}\\propto const \\times  d\\mu$$\n",
    "The prior is flat, and non-normalizable, so it is an improper prior"
   ]
  },
  {
   "cell_type": "markdown",
   "metadata": {},
   "source": [
    "### Gaussian with known mean"
   ]
  },
  {
   "cell_type": "code",
   "execution_count": 15,
   "metadata": {},
   "outputs": [],
   "source": [
    "J_11=simplify(integrate(1/f(x,mu,s)*(df_ds)**2,(x,-oo,+oo)))"
   ]
  },
  {
   "cell_type": "code",
   "execution_count": 16,
   "metadata": {},
   "outputs": [
    {
     "data": {
      "image/png": "[encoded data removed]",
      "text/latex": [
       "$$\\frac{2}{s^{2}}$$"
      ],
      "text/plain": [
       "2 \n",
       "--\n",
       " 2\n",
       "s "
      ]
     },
     "execution_count": 16,
     "metadata": {},
     "output_type": "execute_result"
    }
   ],
   "source": [
    "J_11"
   ]
  },
  {
   "cell_type": "markdown",
   "metadata": {},
   "source": [
    "$$P_J(\\sigma)d\\sigma \\propto \\frac{d\\sigma}{\\sigma}$$\n",
    "The prior is still non-normalizable, so it is an improper prior"
   ]
  },
  {
   "cell_type": "markdown",
   "metadata": {},
   "source": [
    "### Poisson"
   ]
  },
  {
   "cell_type": "code",
   "execution_count": 17,
   "metadata": {},
   "outputs": [],
   "source": [
    "k = Symbol('k')\n",
    "def poisson(k,mu):\n",
    "    return exp(-mu)*mu**k/factorial(k)"
   ]
  },
  {
   "cell_type": "code",
   "execution_count": 18,
   "metadata": {},
   "outputs": [
    {
     "data": {
      "image/png": "[encoded data removed]",
      "text/latex": [
       "$$1$$"
      ],
      "text/plain": [
       "1"
      ]
     },
     "execution_count": 18,
     "metadata": {},
     "output_type": "execute_result"
    }
   ],
   "source": [
    "Sum(poisson(k,mu), (k, 0, oo)).doit()"
   ]
  },
  {
   "cell_type": "code",
   "execution_count": 19,
   "metadata": {},
   "outputs": [
    {
     "data": {
      "image/png": "[encoded data removed]",
      "text/latex": [
       "$$\\mu$$"
      ],
      "text/plain": [
       "mu"
      ]
     },
     "execution_count": 19,
     "metadata": {},
     "output_type": "execute_result"
    }
   ],
   "source": [
    "Sum(poisson(k,mu)*k, (k, 0, oo)).doit()"
   ]
  },
  {
   "cell_type": "code",
   "execution_count": 20,
   "metadata": {},
   "outputs": [
    {
     "data": {
      "image/png": "[encoded data removed]",
      "text/latex": [
       "$$\\mu \\left(\\mu + 1\\right)$$"
      ],
      "text/plain": [
       "mu*(mu + 1)"
      ]
     },
     "execution_count": 20,
     "metadata": {},
     "output_type": "execute_result"
    }
   ],
   "source": [
    "Sum(poisson(k,mu)*k**2, (k, 0, oo)).doit()"
   ]
  },
  {
   "cell_type": "code",
   "execution_count": 21,
   "metadata": {},
   "outputs": [
    {
     "data": {
      "image/png": "[encoded data removed]",
      "text/latex": [
       "$$\\frac{k \\mu^{k} e^{- \\mu}}{\\mu k!} - \\frac{\\mu^{k}}{k!} e^{- \\mu}$$"
      ],
      "text/plain": [
       "    k  -mu     k  -mu\n",
       "k*mu *e      mu *e   \n",
       "---------- - --------\n",
       "  mu*k!         k!   "
      ]
     },
     "execution_count": 21,
     "metadata": {},
     "output_type": "execute_result"
    }
   ],
   "source": [
    "dp_dmu=diff(poisson(k,mu),mu)\n",
    "dp_dmu"
   ]
  },
  {
   "cell_type": "code",
   "execution_count": 22,
   "metadata": {},
   "outputs": [
    {
     "data": {
      "image/png": "[encoded data removed]",
      "text/latex": [
       "$$\\mu^{- k} \\left(\\frac{k \\mu^{k} e^{- \\mu}}{\\mu k!} - \\frac{\\mu^{k}}{k!} e^{- \\mu}\\right) e^{\\mu} k!$$"
      ],
      "text/plain": [
       "     /    k  -mu     k  -mu\\       \n",
       "  -k |k*mu *e      mu *e   |  mu   \n",
       "mu  *|---------- - --------|*e  *k!\n",
       "     \\  mu*k!         k!   /       "
      ]
     },
     "execution_count": 22,
     "metadata": {},
     "output_type": "execute_result"
    }
   ],
   "source": [
    "dlp_dmu=diff(log(poisson(k,mu)),mu)\n",
    "dlp_dmu"
   ]
  },
  {
   "cell_type": "code",
   "execution_count": 23,
   "metadata": {},
   "outputs": [
    {
     "data": {
      "image/png": "[encoded data removed]",
      "text/latex": [
       "$$\\frac{1}{\\mu}$$"
      ],
      "text/plain": [
       "1 \n",
       "--\n",
       "mu"
      ]
     },
     "execution_count": 23,
     "metadata": {},
     "output_type": "execute_result"
    }
   ],
   "source": [
    "#simplify(Sum(dp_dmu**2/poisson(k,mu), (k, 0, oo)).doit())\n",
    "simplify(Sum(dlp_dmu**2*poisson(k,mu), (k, 0, oo)).doit())"
   ]
  },
  {
   "cell_type": "markdown",
   "metadata": {},
   "source": [
    "$$P_J(\\mu)d\\mu \\propto\\frac{d\\mu}{\\sqrt\\mu}???$$\n",
    "\n",
    "it should be $1/\\mu$"
   ]
  },
  {
   "cell_type": "markdown",
   "metadata": {},
   "source": [
    "## Application: Prior for Gaussian, and Student's t-distribution\n",
    "\n",
    "Using the prior just derived, $P_J(\\mu,\\sigma)d\\mu d\\sigma\\propto\\frac{d\\mu}{\\sigma}\\frac{d\\sigma}{\\sigma}$, I compute the posterior for a Gaussian likelihood:\n",
    "\n",
    "$$P(x_1,...,x_N|\\mu,\\sigma)=\\prod_i \\frac{\\exp{(-(x_i-mu)^2/2\\sigma^2})}{\\sqrt{2\\pi\\sigma^2}}=\n",
    "\\frac{1}{(2\\pi\\sigma^2)^{N/2}}\\exp{(-N((\\bar x-\\mu)^2+s^2)/2\\sigma^2))},$$\n",
    "$$\\bar x =\\frac{1}{N}\\sum_i x_i,$$\n",
    "$$s^2=\\frac{1}{N}\\sum_i (x_i-\\bar x)^2$$\n",
    "\n",
    "$$P(\\mu,\\sigma|x_1,...,x_N)d\\mu d\\sigma\\propto \\frac{d\\mu}{\\sigma}\\frac{d\\sigma}{\\sigma}\\frac{1}{(2\\pi\\sigma^2)^{N/2}}\\exp{(-N((\\bar x-\\mu)^2+s^2)/2\\sigma^2))}$$\n",
    "\n",
    "First of all I integrate in $d\\sigma$, posing $\\alpha\\equiv -N((\\bar x-\\mu)^2+s^2)$"
   ]
  },
  {
   "cell_type": "code",
   "execution_count": 28,
   "metadata": {},
   "outputs": [],
   "source": [
    "mu = Symbol('mu',real=True)\n",
    "s = Symbol('s',positive=True)\n",
    "xbar = Symbol('xbar',real=True)\n",
    "sigma = Symbol('sigma',positive=True)\n",
    "N = Symbol('N',positive=True)"
   ]
  },
  {
   "cell_type": "code",
   "execution_count": 29,
   "metadata": {},
   "outputs": [
    {
     "data": {
      "image/png": "[encoded data removed]",
      "text/latex": [
       "$$\\sigma^{- N - 2} e^{- \\frac{\\alpha}{2 \\sigma^{2}}}$$"
      ],
      "text/plain": [
       "             -alpha  \n",
       "             --------\n",
       "                    2\n",
       "     -N - 2  2*sigma \n",
       "sigma      *e        "
      ]
     },
     "execution_count": 29,
     "metadata": {},
     "output_type": "execute_result"
    }
   ],
   "source": [
    "alpha = Symbol('alpha',positive=True)\n",
    "def g2(alpha,s):\n",
    "    return exp(-alpha/(2*sigma**2))/sigma**(N+2)\n",
    "g2(alpha,sigma)"
   ]
  },
  {
   "cell_type": "code",
   "execution_count": 30,
   "metadata": {},
   "outputs": [
    {
     "data": {
      "image/png": "[encoded data removed]",
      "text/latex": [
       "$$2^{\\frac{N}{2} - \\frac{1}{2}} \\alpha^{- \\frac{N}{2} - \\frac{1}{2}} \\Gamma{\\left(\\frac{N}{2} + \\frac{1}{2} \\right)}$$"
      ],
      "text/plain": [
       " N   1        N   1             \n",
       " - - -      - - - -             \n",
       " 2   2        2   2      /N   1\\\n",
       "2     *alpha       *gamma|- + -|\n",
       "                         \\2   2/"
      ]
     },
     "execution_count": 30,
     "metadata": {},
     "output_type": "execute_result"
    }
   ],
   "source": [
    "int_res=simplify(integrate(g2(alpha,sigma),(sigma,0,+oo)))\n",
    "int_res"
   ]
  },
  {
   "cell_type": "code",
   "execution_count": 31,
   "metadata": {},
   "outputs": [
    {
     "data": {
      "image/png": "[encoded data removed]",
      "text/latex": [
       "$$2^{\\frac{N}{2} - \\frac{1}{2}} \\left(N \\left(s^{2} + \\left(\\mu - \\bar{x}\\right)^{2}\\right)\\right)^{- \\frac{N}{2} - \\frac{1}{2}} \\Gamma{\\left(\\frac{N}{2} + \\frac{1}{2} \\right)}$$"
      ],
      "text/plain": [
       "                                N   1             \n",
       " N   1                        - - - -             \n",
       " - - -                          2   2             \n",
       " 2   2 /  / 2              2\\\\             /N   1\\\n",
       "2     *\\N*\\s  + (mu - xbar) //       *gamma|- + -|\n",
       "                                           \\2   2/"
      ]
     },
     "execution_count": 31,
     "metadata": {},
     "output_type": "execute_result"
    }
   ],
   "source": [
    "f_mu=int_res.subs(alpha,N*(s**2+(mu-xbar)**2))\n",
    "f_mu"
   ]
  },
  {
   "cell_type": "code",
   "execution_count": 32,
   "metadata": {},
   "outputs": [],
   "source": [
    "norm=integrate(f_mu,(mu,-oo,+oo))"
   ]
  },
  {
   "cell_type": "code",
   "execution_count": 33,
   "metadata": {},
   "outputs": [
    {
     "data": {
      "image/png": "[encoded data removed]",
      "text/latex": [
       "$$\\frac{s^{N} \\Gamma{\\left(\\frac{N}{2} + \\frac{1}{2} \\right)}}{\\sqrt{\\pi} \\Gamma{\\left(\\frac{N}{2} \\right)}} \\left(\\mu^{2} - 2 \\mu \\bar{x} + s^{2} + \\bar{x}^{2}\\right)^{- \\frac{N}{2} - \\frac{1}{2}}$$"
      ],
      "text/plain": [
       "                                   N   1             \n",
       "                                 - - - -             \n",
       "                                   2   2             \n",
       " N /  2                2       2\\             /N   1\\\n",
       "s *\\mu  - 2*mu*xbar + s  + xbar /       *gamma|- + -|\n",
       "                                              \\2   2/\n",
       "-----------------------------------------------------\n",
       "                     ____      /N\\                   \n",
       "                   \\/ pi *gamma|-|                   \n",
       "                               \\2/                   "
      ]
     },
     "execution_count": 33,
     "metadata": {},
     "output_type": "execute_result"
    }
   ],
   "source": [
    "f_mu_norm=simplify(f_mu/norm)\n",
    "f_mu_norm"
   ]
  },
  {
   "cell_type": "markdown",
   "metadata": {},
   "source": [
    "This result can be written as:\n",
    "$$P(\\mu|x_1,...,x_N)d\\mu=\\frac{\\Gamma(N/2+1/2)}{\\sqrt{\\pi}\\Gamma(N/2)} \n",
    "\\frac{d\\mu}{s}\\left[1+\\left(\\frac{\\mu-\\bar x}{s}\\right)^2\\right]^{-N/2-1/2}$$\n",
    "\n",
    "Let's now introduce:\n",
    "\n",
    "$$t\\equiv \\frac{\\mu-\\bar x}{s/\\sqrt{N}}$$"
   ]
  },
  {
   "cell_type": "code",
   "execution_count": 34,
   "metadata": {},
   "outputs": [
    {
     "data": {
      "image/png": "[encoded data removed]",
      "text/latex": [
       "$$\\frac{N^{\\frac{N}{2} + 1} \\left(N + t^{2}\\right)^{- \\frac{N}{2} - \\frac{1}{2}}}{2 \\sqrt{\\pi} \\Gamma{\\left(\\frac{N}{2} + 1 \\right)}} \\Gamma{\\left(\\frac{N}{2} + \\frac{1}{2} \\right)}$$"
      ],
      "text/plain": [
       "                 N   1             \n",
       " N             - - - -             \n",
       " - + 1           2   2             \n",
       " 2     /     2\\             /N   1\\\n",
       "N     *\\N + t /       *gamma|- + -|\n",
       "                            \\2   2/\n",
       "-----------------------------------\n",
       "           ____      /N    \\       \n",
       "       2*\\/ pi *gamma|- + 1|       \n",
       "                     \\2    /       "
      ]
     },
     "execution_count": 34,
     "metadata": {},
     "output_type": "execute_result"
    }
   ],
   "source": [
    "# here t=(mu-xbar)/(s*sqrt(N))\n",
    "t=Symbol('t')\n",
    "f_t=int_res.subs(alpha,N*s**2*(1+t**2/N))\n",
    "norm_t=integrate(f_t,(t,-oo,+oo))\n",
    "f_t_norm=simplify(f_t/norm_t)\n",
    "f_t_norm"
   ]
  },
  {
   "cell_type": "markdown",
   "metadata": {},
   "source": [
    "$$P(t|x_1,...x_N)dt=\\frac{\\sqrt{N}\\Gamma(N/2+1/2)}{2\\sqrt\\pi \\Gamma(N/2+1)}\\left(1+\\frac{t^2}{N}\\right)^{-N/2-1/2}$$"
   ]
  },
  {
   "cell_type": "markdown",
   "metadata": {},
   "source": [
    "which is exactly Student's t-distribution with N degrees of freedom!\n",
    "\n",
    "So Student's t-distribution comes as a posterior from a non-informative Gaussian prior and Gaussian likelihood."
   ]
  },
  {
   "cell_type": "code",
   "execution_count": 35,
   "metadata": {},
   "outputs": [
    {
     "data": {
      "image/png": "[encoded data removed]",
      "text/latex": [
       "$$1$$"
      ],
      "text/plain": [
       "1"
      ]
     },
     "execution_count": 35,
     "metadata": {},
     "output_type": "execute_result"
    }
   ],
   "source": [
    "simplify(integrate(f_t_norm,(t,-oo,oo)))"
   ]
  },
  {
   "cell_type": "code",
   "execution_count": 36,
   "metadata": {},
   "outputs": [
    {
     "data": {
      "image/png": "[encoded data removed]",
      "text/latex": [
       "$$\\begin{cases} 0 & \\text{for}\\: \\frac{N}{2} + \\frac{1}{2} > 1 \\\\\\int_{-\\infty}^{\\infty} \\frac{N^{\\frac{N}{2} + 1} t \\left(N + t^{2}\\right)^{- \\frac{N}{2} - \\frac{1}{2}}}{2 \\sqrt{\\pi} \\Gamma{\\left(\\frac{N}{2} + 1 \\right)}} \\Gamma{\\left(\\frac{N}{2} + \\frac{1}{2} \\right)}\\, dt & \\text{otherwise} \\end{cases}$$"
      ],
      "text/plain": [
       "/                                                  N   1    \n",
       "|                     0                        for - + - > 1\n",
       "|                                                  2   2    \n",
       "|                                                           \n",
       "| oo                                                        \n",
       "|  /                                                        \n",
       "| |                                                         \n",
       "| |                     N   1                               \n",
       "| |   N               - - - -                               \n",
       "| |   - + 1             2   2                               \n",
       "< |   2       /     2\\             /N   1\\                  \n",
       "| |  N     *t*\\N + t /       *gamma|- + -|                  \n",
       "| |                                \\2   2/                  \n",
       "| |  ------------------------------------- dt    otherwise  \n",
       "| |              ____      /N    \\                          \n",
       "| |          2*\\/ pi *gamma|- + 1|                          \n",
       "| |                        \\2    /                          \n",
       "| |                                                         \n",
       "|/                                                          \n",
       "|-oo                                                        \n",
       "\\                                                           "
      ]
     },
     "execution_count": 36,
     "metadata": {},
     "output_type": "execute_result"
    }
   ],
   "source": [
    "simplify(integrate(f_t_norm*t,(t,-oo,oo)))"
   ]
  },
  {
   "cell_type": "code",
   "execution_count": 37,
   "metadata": {},
   "outputs": [
    {
     "data": {
      "image/png": "[encoded data removed]",
      "text/latex": [
       "$$\\begin{cases} \\frac{N}{N - 2} & \\text{for}\\: \\frac{N}{2} > 1 \\\\\\int_{-\\infty}^{\\infty} \\frac{N^{\\frac{N}{2} + 1} t^{2} \\left(N + t^{2}\\right)^{- \\frac{N}{2} - \\frac{1}{2}}}{2 \\sqrt{\\pi} \\Gamma{\\left(\\frac{N}{2} + 1 \\right)}} \\Gamma{\\left(\\frac{N}{2} + \\frac{1}{2} \\right)}\\, dt & \\text{otherwise} \\end{cases}$$"
      ],
      "text/plain": [
       "/                      N                            N    \n",
       "|                    -----                      for - > 1\n",
       "|                    N - 2                          2    \n",
       "|                                                        \n",
       "| oo                                                     \n",
       "|  /                                                     \n",
       "| |                                                      \n",
       "| |                      N   1                           \n",
       "| |   N                - - - -                           \n",
       "| |   - + 1              2   2                           \n",
       "< |   2      2 /     2\\             /N   1\\              \n",
       "| |  N     *t *\\N + t /       *gamma|- + -|              \n",
       "| |                                 \\2   2/              \n",
       "| |  -------------------------------------- dt  otherwise\n",
       "| |              ____      /N    \\                       \n",
       "| |          2*\\/ pi *gamma|- + 1|                       \n",
       "| |                        \\2    /                       \n",
       "| |                                                      \n",
       "|/                                                       \n",
       "|-oo                                                     \n",
       "\\                                                        "
      ]
     },
     "execution_count": 37,
     "metadata": {},
     "output_type": "execute_result"
    }
   ],
   "source": [
    "simplify(integrate(f_t_norm*t**2,(t,-oo,oo)))"
   ]
  },
  {
   "cell_type": "code",
   "execution_count": 38,
   "metadata": {},
   "outputs": [
    {
     "data": {
      "text/plain": [
       "[<matplotlib.lines.Line2D at 0x7fce2262b588>]"
      ]
     },
     "execution_count": 38,
     "metadata": {},
     "output_type": "execute_result"
    },
    {
     "data": {
      "image/png": "[encoded data removed]",
      "text/plain": [
       "<matplotlib.figure.Figure at 0x7fce38f688d0>"
      ]
     },
     "metadata": {},
     "output_type": "display_data"
    }
   ],
   "source": [
    "f=lambdify((t,N),f_t_norm,modules=[\"numpy\",\"sympy\"])\n",
    "\n",
    "import numpy as np\n",
    "x=np.linspace(-10,10,1000)\n",
    "import matplotlib.pyplot as plt\n",
    "%matplotlib inline\n",
    "#I fix the number of N trials\n",
    "plt.plot(x,f(x,1))\n",
    "plt.plot(x,f(x,2))\n",
    "plt.plot(x,f(x,5))\n",
    "plt.plot(x,f(x,50))"
   ]
  },
  {
   "cell_type": "markdown",
   "metadata": {},
   "source": [
    "### Exponential\n",
    "With the same procedure for the exponential distribution I get:\n",
    "$$P(\\mu|x_1,...,x_N)d\\mu\\propto\\frac{d\\mu}{\\mu^{N+1}}\\exp{(-N\\bar x/\\mu)}$$"
   ]
  },
  {
   "cell_type": "code",
   "execution_count": 39,
   "metadata": {},
   "outputs": [
    {
     "data": {
      "image/png": "[encoded data removed]",
      "text/latex": [
       "$$\\mu^{- N - 1} e^{- \\frac{N \\bar{x}}{\\mu}}$$"
      ],
      "text/plain": [
       "          -N*xbar \n",
       "          --------\n",
       "  -N - 1     mu   \n",
       "mu      *e        "
      ]
     },
     "execution_count": 39,
     "metadata": {},
     "output_type": "execute_result"
    }
   ],
   "source": [
    "mu = Symbol('mu',positive=True)\n",
    "xbar = Symbol('xbar',positive=True)\n",
    "N = Symbol('N',positive=True)\n",
    "def e(mu,xbar,N):\n",
    "    return exp(-N*xbar/mu)/mu**(N+1)\n",
    "e(mu,xbar,N)"
   ]
  },
  {
   "cell_type": "code",
   "execution_count": 40,
   "metadata": {},
   "outputs": [
    {
     "data": {
      "image/png": "[encoded data removed]",
      "text/latex": [
       "$$\\frac{\\mu^{- N - 1}}{\\Gamma{\\left(N \\right)}} \\left(N \\bar{x}\\right)^{N} e^{- \\frac{N \\bar{x}}{\\mu}}$$"
      ],
      "text/plain": [
       "                    -N*xbar \n",
       "                    --------\n",
       "  -N - 1         N     mu   \n",
       "mu      *(N*xbar) *e        \n",
       "----------------------------\n",
       "          gamma(N)          "
      ]
     },
     "execution_count": 40,
     "metadata": {},
     "output_type": "execute_result"
    }
   ],
   "source": [
    "norm=integrate(e(mu,xbar,N),(mu,0,oo))\n",
    "e_norm=simplify(e(mu,xbar,N)/norm)\n",
    "e_norm"
   ]
  },
  {
   "cell_type": "code",
   "execution_count": 41,
   "metadata": {},
   "outputs": [
    {
     "data": {
      "image/png": "[encoded data removed]",
      "text/latex": [
       "$$1$$"
      ],
      "text/plain": [
       "1"
      ]
     },
     "execution_count": 41,
     "metadata": {},
     "output_type": "execute_result"
    }
   ],
   "source": [
    "simplify(integrate(e_norm,(mu,0,oo)))"
   ]
  },
  {
   "cell_type": "code",
   "execution_count": 43,
   "metadata": {},
   "outputs": [
    {
     "data": {
      "image/png": "[encoded data removed]",
      "text/latex": [
       "$$\\begin{cases} \\frac{N \\bar{x}}{N - 1} & \\text{for}\\: - N + 2 < 1 \\\\\\int_{0}^{\\infty} \\frac{\\left(\\frac{N \\bar{x}}{\\mu}\\right)^{N}}{\\Gamma{\\left(N \\right)}} e^{- \\frac{N \\bar{x}}{\\mu}}\\, d\\mu & \\text{otherwise} \\end{cases}$$"
      ],
      "text/plain": [
       "/           N*xbar                            \n",
       "|           ------              for -N + 2 < 1\n",
       "|           N - 1                             \n",
       "|                                             \n",
       "| oo                                          \n",
       "|  /                                          \n",
       "| |                                           \n",
       "| |             -N*xbar                       \n",
       "< |          N  --------                      \n",
       "| |  /N*xbar\\      mu                         \n",
       "| |  |------| *e                              \n",
       "| |  \\  mu  /                                 \n",
       "| |  ------------------- d(mu)    otherwise   \n",
       "| |        gamma(N)                           \n",
       "| |                                           \n",
       "|/                                            \n",
       "\\0                                            "
      ]
     },
     "execution_count": 43,
     "metadata": {},
     "output_type": "execute_result"
    }
   ],
   "source": [
    "av_x=simplify(integrate(e_norm*mu,(mu,0,oo)))\n",
    "av_x"
   ]
  },
  {
   "cell_type": "code",
   "execution_count": 44,
   "metadata": {},
   "outputs": [
    {
     "data": {
      "image/png": "[encoded data removed]",
      "text/latex": [
       "$$\\frac{N \\bar{x}}{N - 1}$$"
      ],
      "text/plain": [
       "N*xbar\n",
       "------\n",
       "N - 1 "
      ]
     },
     "execution_count": 44,
     "metadata": {},
     "output_type": "execute_result"
    }
   ],
   "source": [
    "av_x_ok=av_x.args[0][0]\n",
    "av_x_ok"
   ]
  },
  {
   "cell_type": "code",
   "execution_count": 45,
   "metadata": {},
   "outputs": [
    {
     "data": {
      "image/png": "[encoded data removed]",
      "text/latex": [
       "$$- \\frac{N^{2} \\bar{x}^{2}}{\\left(N - 1\\right)^{2}} + \\begin{cases} \\frac{N^{N} \\bar{x}^{N} \\left(N \\bar{x}\\right)^{- N + 3}}{N \\bar{x} \\Gamma{\\left(N \\right)}} \\Gamma{\\left(N - 2 \\right)} & \\text{for}\\: - N + 3 < 1 \\\\\\int_{0}^{\\infty} \\frac{\\mu^{2} \\left(N \\bar{x}\\right)^{N}}{\\Gamma{\\left(N \\right)}} \\mu^{- N - 1} e^{- \\frac{N \\bar{x}}{\\mu}}\\, d\\mu & \\text{otherwise} \\end{cases}$$"
      ],
      "text/plain": [
       "             //    N     N         -N + 3                                \\\n",
       "             ||   N *xbar *(N*xbar)      *gamma(N - 2)                   |\n",
       "             ||   ------------------------------------     for -N + 3 < 1|\n",
       "             ||             N*xbar*gamma(N)                              |\n",
       "             ||                                                          |\n",
       "             || oo                                                       |\n",
       "   2     2   ||  /                                                       |\n",
       "  N *xbar    || |                                                        |\n",
       "- -------- + |< |                          -N*xbar                       |\n",
       "         2   || |                          --------                      |\n",
       "  (N - 1)    || |    2   -N - 1         N     mu                         |\n",
       "             || |  mu *mu      *(N*xbar) *e                              |\n",
       "             || |  -------------------------------- d(mu)    otherwise   |\n",
       "             || |              gamma(N)                                  |\n",
       "             || |                                                        |\n",
       "             ||/                                                         |\n",
       "             \\\\0                                                         /"
      ]
     },
     "execution_count": 45,
     "metadata": {},
     "output_type": "execute_result"
    }
   ],
   "source": [
    "var_x=simplify(integrate(e_norm*mu**2,(mu,0,oo))-av_x_ok**2)\n",
    "var_x"
   ]
  },
  {
   "cell_type": "code",
   "execution_count": 46,
   "metadata": {},
   "outputs": [
    {
     "data": {
      "image/png": "[encoded data removed]",
      "text/latex": [
       "$$\\frac{N^{2} \\bar{x}^{2}}{\\left(N - 2\\right) \\left(N - 1\\right)^{2}}$$"
      ],
      "text/plain": [
       "     2     2    \n",
       "    N *xbar     \n",
       "----------------\n",
       "               2\n",
       "(N - 2)*(N - 1) "
      ]
     },
     "execution_count": 46,
     "metadata": {},
     "output_type": "execute_result"
    }
   ],
   "source": [
    "var_x_ok=simplify(var_x.args[0]+var_x.args[1].args[0][0])\n",
    "var_x_ok"
   ]
  },
  {
   "cell_type": "code",
   "execution_count": 47,
   "metadata": {},
   "outputs": [],
   "source": [
    "f=lambdify((mu,xbar,N),e_norm,modules=[\"numpy\",\"sympy\"])"
   ]
  },
  {
   "cell_type": "code",
   "execution_count": 48,
   "metadata": {},
   "outputs": [
    {
     "data": {
      "image/png": "[encoded data removed]",
      "text/plain": [
       "<matplotlib.figure.Figure at 0x7fce39374208>"
      ]
     },
     "metadata": {},
     "output_type": "display_data"
    }
   ],
   "source": [
    "#check why lambdify fails for large N!\n",
    "import numpy as np\n",
    "x=np.linspace(0.001,10,1000)\n",
    "import matplotlib.pyplot as plt\n",
    "%matplotlib inline\n",
    "#I fix the average xxbar after Nn trials\n",
    "xxbar=5\n",
    "Nn=3\n",
    "plt.plot(x,f(x,xxbar,Nn));"
   ]
  },
  {
   "cell_type": "markdown",
   "metadata": {},
   "source": [
    "### Binary\n",
    "It gives Beta(number of zeros+1/2, number of ones +1/2)\n",
    "\n",
    "$$P(p|x_1,...,x_N)dp=p^{N\\bar x}(1-p)^{N(1-\\bar x)}\\frac{dp}{\\pi\\sqrt{p(1-p)}}$$"
   ]
  },
  {
   "cell_type": "code",
   "execution_count": 49,
   "metadata": {},
   "outputs": [
    {
     "data": {
      "image/png": "[encoded data removed]",
      "text/latex": [
       "$$\\frac{p^{N \\bar{x}} \\left(- p + 1\\right)^{N \\left(- \\bar{x} + 1\\right)}}{\\pi \\sqrt{p} \\sqrt{- p + 1}}$$"
      ],
      "text/plain": [
       " N*xbar         N*(-xbar + 1)\n",
       "p      *(-p + 1)             \n",
       "-----------------------------\n",
       "          ___   ________     \n",
       "     pi*\\/ p *\\/ -p + 1      "
      ]
     },
     "execution_count": 49,
     "metadata": {},
     "output_type": "execute_result"
    }
   ],
   "source": [
    "p=Symbol('p',positive=True)\n",
    "xbar=Symbol('xbar',positive=True)\n",
    "N=Symbol('N',positive=True)\n",
    "def b(p,xbar,N):\n",
    "    return p**(N*xbar)*(1-p)**(N*(1-xbar))/pi/sqrt(p*(1-p))\n",
    "b(p,xbar,N)"
   ]
  },
  {
   "cell_type": "code",
   "execution_count": 59,
   "metadata": {},
   "outputs": [],
   "source": [
    "#slow\n",
    "#integrate(b(p,xbar,N),(p,0,1))"
   ]
  },
  {
   "cell_type": "markdown",
   "metadata": {},
   "source": [
    "### Poisson"
   ]
  },
  {
   "cell_type": "markdown",
   "metadata": {},
   "source": [
    "$$P(\\mu|x_1,...,x_N)d\\mu\\propto \\exp{(-N\\mu)}\\mu^{N\\bar x}\\frac{d\\mu}{\\mu}$$"
   ]
  },
  {
   "cell_type": "code",
   "execution_count": 52,
   "metadata": {},
   "outputs": [
    {
     "data": {
      "image/png": "[encoded data removed]",
      "text/latex": [
       "$$\\frac{\\mu^{N \\bar{x}}}{\\mu} e^{- N \\mu}$$"
      ],
      "text/plain": [
       "  N*xbar  -N*mu\n",
       "mu      *e     \n",
       "---------------\n",
       "       mu      "
      ]
     },
     "execution_count": 52,
     "metadata": {},
     "output_type": "execute_result"
    }
   ],
   "source": [
    "mu = Symbol('mu',positive=True)\n",
    "xbar = Symbol('xbar',positive=True)\n",
    "N = Symbol('N',positive=True)\n",
    "def p(mu,xbar,N):\n",
    "    return exp(-N*mu)*mu**(N*xbar)/mu\n",
    "p(mu,xbar,N)"
   ]
  },
  {
   "cell_type": "code",
   "execution_count": 53,
   "metadata": {},
   "outputs": [
    {
     "data": {
      "image/png": "[encoded data removed]",
      "text/latex": [
       "$$\\frac{N^{N \\bar{x} + 1} \\mu^{N \\bar{x} - 1} \\bar{x}}{\\Gamma{\\left(N \\bar{x} + 1 \\right)}} e^{- N \\mu}$$"
      ],
      "text/plain": [
       " N*xbar + 1   N*xbar - 1       -N*mu\n",
       "N          *mu          *xbar*e     \n",
       "------------------------------------\n",
       "         gamma(N*xbar + 1)          "
      ]
     },
     "execution_count": 53,
     "metadata": {},
     "output_type": "execute_result"
    }
   ],
   "source": [
    "norm=integrate(p(mu,xbar,N),(mu,0,oo))\n",
    "p_norm=simplify(p(mu,xbar,N)/norm)\n",
    "p_norm"
   ]
  },
  {
   "cell_type": "code",
   "execution_count": 54,
   "metadata": {},
   "outputs": [
    {
     "data": {
      "image/png": "[encoded data removed]",
      "text/latex": [
       "$$1$$"
      ],
      "text/plain": [
       "1"
      ]
     },
     "execution_count": 54,
     "metadata": {},
     "output_type": "execute_result"
    }
   ],
   "source": [
    "simplify(integrate(p_norm,(mu,0,oo)))"
   ]
  },
  {
   "cell_type": "code",
   "execution_count": 55,
   "metadata": {},
   "outputs": [
    {
     "data": {
      "image/png": "[encoded data removed]",
      "text/latex": [
       "$$\\bar{x}$$"
      ],
      "text/plain": [
       "xbar"
      ]
     },
     "execution_count": 55,
     "metadata": {},
     "output_type": "execute_result"
    }
   ],
   "source": [
    "x_av=simplify(integrate(p_norm*mu,(mu,0,oo)))\n",
    "x_av"
   ]
  },
  {
   "cell_type": "code",
   "execution_count": 56,
   "metadata": {},
   "outputs": [
    {
     "data": {
      "image/png": "[encoded data removed]",
      "text/latex": [
       "$$\\frac{\\bar{x}}{N}$$"
      ],
      "text/plain": [
       "xbar\n",
       "----\n",
       " N  "
      ]
     },
     "execution_count": 56,
     "metadata": {},
     "output_type": "execute_result"
    }
   ],
   "source": [
    "var=simplify(integrate(p_norm*mu**2,(mu,0,oo))-x_av**2)\n",
    "var"
   ]
  },
  {
   "cell_type": "code",
   "execution_count": 57,
   "metadata": {},
   "outputs": [],
   "source": [
    "p_np=lambdify((mu,xbar,N),p_norm,modules=[\"numpy\",\"sympy\"])"
   ]
  },
  {
   "cell_type": "code",
   "execution_count": 58,
   "metadata": {},
   "outputs": [
    {
     "data": {
      "image/png": "[encoded data removed]",
      "text/plain": [
       "<matplotlib.figure.Figure at 0x7fce224a5208>"
      ]
     },
     "metadata": {},
     "output_type": "display_data"
    }
   ],
   "source": [
    "import numpy as np\n",
    "x=np.linspace(0.001,10,1000)\n",
    "import matplotlib.pyplot as plt\n",
    "%matplotlib inline\n",
    "#I fix the average xxbar after Nn trials\n",
    "xxbar=5\n",
    "Nn=4\n",
    "plt.plot(x,p_np(x,xxbar,Nn));"
   ]
  },
  {
   "cell_type": "code",
   "execution_count": null,
   "metadata": {},
   "outputs": [],
   "source": []
  }
 ],
 "metadata": {
  "kernelspec": {
   "display_name": "Python [default]",
   "language": "python",
   "name": "python3"
  },
  "language_info": {
   "codemirror_mode": {
    "name": "ipython",
    "version": 3
   },
   "file_extension": ".py",
   "mimetype": "text/x-python",
   "name": "python",
   "nbconvert_exporter": "python",
   "pygments_lexer": "ipython3",
   "version": "3.5.2"
  }
 },
 "nbformat": 4,
 "nbformat_minor": 2
}
